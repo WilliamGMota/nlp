{
  "nbformat": 4,
  "nbformat_minor": 0,
  "metadata": {
    "colab": {
      "name": "Conceito-TF-IDF.ipynb",
      "provenance": [],
      "authorship_tag": "ABX9TyM7pZK2Uqg2w2ar05fgx9mN",
      "include_colab_link": true
    },
    "kernelspec": {
      "name": "python3",
      "display_name": "Python 3"
    }
  },
  "cells": [
    {
      "cell_type": "markdown",
      "metadata": {
        "id": "view-in-github",
        "colab_type": "text"
      },
      "source": [
        "<a href=\"https://colab.research.google.com/github/WilliamGMota/nlp/blob/main/Conceito_TF_IDF.ipynb\" target=\"_parent\"><img src=\"https://colab.research.google.com/assets/colab-badge.svg\" alt=\"Open In Colab\"/></a>"
      ]
    },
    {
      "cell_type": "markdown",
      "metadata": {
        "id": "NxU5BrtTKJiK"
      },
      "source": [
        "1) Carrega a classe para processar o TF-IDF\n"
      ]
    },
    {
      "cell_type": "code",
      "metadata": {
        "id": "SYMI1f--G3ia"
      },
      "source": [
        "from sklearn.feature_extraction.text import TfidfVectorizer"
      ],
      "execution_count": 6,
      "outputs": []
    },
    {
      "cell_type": "markdown",
      "metadata": {
        "id": "aTI801nsKIKW"
      },
      "source": [
        "2) Conjunto de documentos ou frases que precisam ser carregadas."
      ]
    },
    {
      "cell_type": "code",
      "metadata": {
        "id": "p9Z01XVbHO8s"
      },
      "source": [
        "text = [\n",
        "        \"o ladrão foi visto roubando um banco\",\n",
        "        \"depois de roubar o banco, o ladrão saiu correndo\",\n",
        "        \"o ladrão foi visto descansando no banco da praça\"\n",
        "]"
      ],
      "execution_count": 8,
      "outputs": []
    },
    {
      "cell_type": "markdown",
      "metadata": {
        "id": "YhQ0238mKa0H"
      },
      "source": [
        "3) processa o conjunto de dados com o método fit."
      ]
    },
    {
      "cell_type": "code",
      "metadata": {
        "colab": {
          "base_uri": "https://localhost:8080/"
        },
        "id": "hLp4t0tYJRGJ",
        "outputId": "f88e5129-0eab-4016-c22b-80433ced98cb"
      },
      "source": [
        "vectorizer = TfidfVectorizer()\n",
        "vectorizer.fit(text)"
      ],
      "execution_count": 10,
      "outputs": [
        {
          "output_type": "execute_result",
          "data": {
            "text/plain": [
              "TfidfVectorizer(analyzer='word', binary=False, decode_error='strict',\n",
              "                dtype=<class 'numpy.float64'>, encoding='utf-8',\n",
              "                input='content', lowercase=True, max_df=1.0, max_features=None,\n",
              "                min_df=1, ngram_range=(1, 1), norm='l2', preprocessor=None,\n",
              "                smooth_idf=True, stop_words=None, strip_accents=None,\n",
              "                sublinear_tf=False, token_pattern='(?u)\\\\b\\\\w\\\\w+\\\\b',\n",
              "                tokenizer=None, use_idf=True, vocabulary=None)"
            ]
          },
          "metadata": {
            "tags": []
          },
          "execution_count": 10
        }
      ]
    },
    {
      "cell_type": "markdown",
      "metadata": {
        "id": "9zd38RpQKnRZ"
      },
      "source": [
        "4) Retorna o vocabulário com a matriz e a posição específica na matriz TTf-IDF."
      ]
    },
    {
      "cell_type": "code",
      "metadata": {
        "colab": {
          "base_uri": "https://localhost:8080/"
        },
        "id": "qr-NH7TVKDPH",
        "outputId": "39af4f6d-588c-4f5d-e3c8-241cb18b018f"
      },
      "source": [
        "vectorizer.vocabulary_"
      ],
      "execution_count": 13,
      "outputs": [
        {
          "output_type": "execute_result",
          "data": {
            "text/plain": [
              "{'banco': 0,\n",
              " 'correndo': 1,\n",
              " 'da': 2,\n",
              " 'de': 3,\n",
              " 'depois': 4,\n",
              " 'descansando': 5,\n",
              " 'foi': 6,\n",
              " 'ladrão': 7,\n",
              " 'no': 8,\n",
              " 'praça': 9,\n",
              " 'roubando': 10,\n",
              " 'roubar': 11,\n",
              " 'saiu': 12,\n",
              " 'um': 13,\n",
              " 'visto': 14}"
            ]
          },
          "metadata": {
            "tags": []
          },
          "execution_count": 13
        }
      ]
    },
    {
      "cell_type": "markdown",
      "metadata": {
        "id": "xlhUIGfZLHAR"
      },
      "source": [
        "5) Especionar o peso na matriz de cada palavra.\n",
        "\n",
        "Nota: Observe que para as palavras que repete mais vezes o peso é menor."
      ]
    },
    {
      "cell_type": "code",
      "metadata": {
        "colab": {
          "base_uri": "https://localhost:8080/"
        },
        "id": "a3WimOgLK6U8",
        "outputId": "092fa772-785b-4e5b-a46b-858ee520db99"
      },
      "source": [
        "vectorizer.idf_"
      ],
      "execution_count": 14,
      "outputs": [
        {
          "output_type": "execute_result",
          "data": {
            "text/plain": [
              "array([1.        , 1.69314718, 1.69314718, 1.69314718, 1.69314718,\n",
              "       1.69314718, 1.28768207, 1.        , 1.69314718, 1.69314718,\n",
              "       1.69314718, 1.69314718, 1.69314718, 1.69314718, 1.28768207])"
            ]
          },
          "metadata": {
            "tags": []
          },
          "execution_count": 14
        }
      ]
    }
  ]
}