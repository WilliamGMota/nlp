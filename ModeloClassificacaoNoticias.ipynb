{
  "nbformat": 4,
  "nbformat_minor": 0,
  "metadata": {
    "colab": {
      "name": "ModeloClassificacaoNoticias.ipynb",
      "provenance": [],
      "authorship_tag": "ABX9TyO9L2zXwUe43OBQlzCTNM0Q",
      "include_colab_link": true
    },
    "kernelspec": {
      "name": "python3",
      "display_name": "Python 3"
    }
  },
  "cells": [
    {
      "cell_type": "markdown",
      "metadata": {
        "id": "view-in-github",
        "colab_type": "text"
      },
      "source": [
        "<a href=\"https://colab.research.google.com/github/WilliamGMota/nlp/blob/main/ModeloClassificacaoNoticias.ipynb\" target=\"_parent\"><img src=\"https://colab.research.google.com/assets/colab-badge.svg\" alt=\"Open In Colab\"/></a>"
      ]
    },
    {
      "cell_type": "markdown",
      "metadata": {
        "id": "CnUqN9tV7sJX"
      },
      "source": [
        "**Importação das classes**\n",
        "\n",
        "**pandas** *=>* para fazer leitura do dataset\n",
        "\n",
        "**joblib** *=>* Utilizado para importar e exportar o modelo\n",
        "\n",
        "**TfidVectorizer** *=>* Para calcular o TD-IDF\n",
        "\n",
        "**LabelEncoder** *=>* Codificar os rótulos das classificação dos conteúdos em forma numérica.\n",
        "\n",
        "**LinearSVC** *=>* Algoritmo de classificação SVM com kernel Linear\n",
        "\n",
        "**Pipeline** *=>* Bibioteca para definir uma sequência de processamento.\n",
        "\n",
        "**train_test_split** => Biblioteca para dividir treino e teste.\n",
        "\n",
        "**seaborn** *=>* Para desenhar e apresentar gráficos para avaliar.\n",
        "\n",
        "**accuracy_score** *=>* Para medir a precisão do resultado.\n",
        "\n",
        "**classification_report** *=>* Para medir e apresentar a precisão do resultado por rotulo.\n",
        "\n",
        "\n",
        "**Nota:** Nesse modelo será utilizado 80% dos dados para treino e o resto para avaliação.\n"
      ]
    },
    {
      "cell_type": "code",
      "metadata": {
        "id": "FKZwOwUG2g6j"
      },
      "source": [
        "import pandas as pd\n",
        "import joblib\n",
        "from sklearn.model_selection import train_test_split\n",
        "from sklearn.feature_extraction.text import TfidfVectorizer\n",
        "from sklearn.preprocessing import LabelEncoder\n",
        "\n",
        "from sklearn.svm import LinearSVC\n",
        "from sklearn.pipeline import Pipeline\n",
        "from sklearn.model_selection import train_test_split\n",
        "from sklearn.metrics import accuracy_score\n",
        "from sklearn.metrics import classification_report\n",
        "import seaborn as sns\n"
      ],
      "execution_count": 44,
      "outputs": []
    },
    {
      "cell_type": "markdown",
      "metadata": {
        "id": "4fCaclUc_NiC"
      },
      "source": [
        "Carregar os dados do dataset para train_df\n"
      ]
    },
    {
      "cell_type": "code",
      "metadata": {
        "id": "MDqQ8LAd-jqn"
      },
      "source": [
        "train_df = pd.read_csv(\"./news_headlines.csv\")"
      ],
      "execution_count": 45,
      "outputs": []
    },
    {
      "cell_type": "markdown",
      "metadata": {
        "id": "52JD1gfh_dzj"
      },
      "source": [
        "Visualizar as primeiras linhas dos dados carregados para avaliar se foi carregado corretamente."
      ]
    },
    {
      "cell_type": "code",
      "metadata": {
        "colab": {
          "base_uri": "https://localhost:8080/",
          "height": 419
        },
        "id": "asAmlNdG_CcV",
        "outputId": "b36b7236-1b14-459c-a178-5ed473538b89"
      },
      "source": [
        "train_df"
      ],
      "execution_count": 46,
      "outputs": [
        {
          "output_type": "execute_result",
          "data": {
            "text/html": [
              "<div>\n",
              "<style scoped>\n",
              "    .dataframe tbody tr th:only-of-type {\n",
              "        vertical-align: middle;\n",
              "    }\n",
              "\n",
              "    .dataframe tbody tr th {\n",
              "        vertical-align: top;\n",
              "    }\n",
              "\n",
              "    .dataframe thead th {\n",
              "        text-align: right;\n",
              "    }\n",
              "</style>\n",
              "<table border=\"1\" class=\"dataframe\">\n",
              "  <thead>\n",
              "    <tr style=\"text-align: right;\">\n",
              "      <th></th>\n",
              "      <th>post</th>\n",
              "      <th>tags</th>\n",
              "    </tr>\n",
              "  </thead>\n",
              "  <tbody>\n",
              "    <tr>\n",
              "      <th>0</th>\n",
              "      <td>após quentinhas e alimentação cortada vasco ac...</td>\n",
              "      <td>esporte</td>\n",
              "    </tr>\n",
              "    <tr>\n",
              "      <th>1</th>\n",
              "      <td>até os &lt;digit&gt;&lt;digit&gt; dá para sonhar diz idoso...</td>\n",
              "      <td>educacao</td>\n",
              "    </tr>\n",
              "    <tr>\n",
              "      <th>2</th>\n",
              "      <td>brigadeiro da aprovação oração mãe e filha jun...</td>\n",
              "      <td>educacao</td>\n",
              "    </tr>\n",
              "    <tr>\n",
              "      <th>3</th>\n",
              "      <td>estou preparada diz filha de professora e cand...</td>\n",
              "      <td>educacao</td>\n",
              "    </tr>\n",
              "    <tr>\n",
              "      <th>4</th>\n",
              "      <td>hamburgada do bem feita por professora do rj f...</td>\n",
              "      <td>educacao</td>\n",
              "    </tr>\n",
              "    <tr>\n",
              "      <th>...</th>\n",
              "      <td>...</td>\n",
              "      <td>...</td>\n",
              "    </tr>\n",
              "    <tr>\n",
              "      <th>11764</th>\n",
              "      <td>zidane reconhece fracasso e admite cargo ameaç...</td>\n",
              "      <td>esporte</td>\n",
              "    </tr>\n",
              "    <tr>\n",
              "      <th>11765</th>\n",
              "      <td>zidane se inspira em início no real para afast...</td>\n",
              "      <td>esporte</td>\n",
              "    </tr>\n",
              "    <tr>\n",
              "      <th>11766</th>\n",
              "      <td>zidane vê como natural substituição de cr&lt;digi...</td>\n",
              "      <td>esporte</td>\n",
              "    </tr>\n",
              "    <tr>\n",
              "      <th>11767</th>\n",
              "      <td>zizi lança gravação de música inédita da trilh...</td>\n",
              "      <td>musica</td>\n",
              "    </tr>\n",
              "    <tr>\n",
              "      <th>11768</th>\n",
              "      <td>zoações tomam conta das redes com eliminação d...</td>\n",
              "      <td>esporte</td>\n",
              "    </tr>\n",
              "  </tbody>\n",
              "</table>\n",
              "<p>11769 rows × 2 columns</p>\n",
              "</div>"
            ],
            "text/plain": [
              "                                                    post      tags\n",
              "0      após quentinhas e alimentação cortada vasco ac...   esporte\n",
              "1      até os <digit><digit> dá para sonhar diz idoso...  educacao\n",
              "2      brigadeiro da aprovação oração mãe e filha jun...  educacao\n",
              "3      estou preparada diz filha de professora e cand...  educacao\n",
              "4      hamburgada do bem feita por professora do rj f...  educacao\n",
              "...                                                  ...       ...\n",
              "11764  zidane reconhece fracasso e admite cargo ameaç...   esporte\n",
              "11765  zidane se inspira em início no real para afast...   esporte\n",
              "11766  zidane vê como natural substituição de cr<digi...   esporte\n",
              "11767  zizi lança gravação de música inédita da trilh...    musica\n",
              "11768  zoações tomam conta das redes com eliminação d...   esporte\n",
              "\n",
              "[11769 rows x 2 columns]"
            ]
          },
          "metadata": {
            "tags": []
          },
          "execution_count": 46
        }
      ]
    },
    {
      "cell_type": "markdown",
      "metadata": {
        "id": "vCWOTR4fALX2"
      },
      "source": [
        "Montagem do gráfico para avaliação do balanceamento das classificações, para avaliar se a quantidade de classificação dos modelos estão aproximadamente com a mesma quantidade."
      ]
    },
    {
      "cell_type": "code",
      "metadata": {
        "colab": {
          "base_uri": "https://localhost:8080/",
          "height": 296
        },
        "id": "2-hzpDup_GNE",
        "outputId": "52d553e7-a8cd-4572-b7ec-5eab6060205e"
      },
      "source": [
        "sns.countplot(y='tags', data=train_df, palette='pastel')\n"
      ],
      "execution_count": 47,
      "outputs": [
        {
          "output_type": "execute_result",
          "data": {
            "text/plain": [
              "<matplotlib.axes._subplots.AxesSubplot at 0x7f8fd25d40f0>"
            ]
          },
          "metadata": {
            "tags": []
          },
          "execution_count": 47
        },
        {
          "output_type": "display_data",
          "data": {
            "image/png": "[encoded data removed]",
            "text/plain": [
              "<Figure size 432x288 with 1 Axes>"
            ]
          },
          "metadata": {
            "tags": [],
            "needs_background": "light"
          }
        }
      ]
    },
    {
      "cell_type": "markdown",
      "metadata": {
        "id": "QEuthFbDBnaS"
      },
      "source": [
        "Transforma a coluna 'tags' que são as classificações em códigos."
      ]
    },
    {
      "cell_type": "code",
      "metadata": {
        "id": "s3X74dS2ACdX"
      },
      "source": [
        "le = LabelEncoder()\n",
        "Y = le.fit_transform(train_df['tags'])\n"
      ],
      "execution_count": 48,
      "outputs": []
    },
    {
      "cell_type": "markdown",
      "metadata": {
        "id": "BfpvA6cyBy46"
      },
      "source": [
        "Visualiza os códigos das classes"
      ]
    },
    {
      "cell_type": "code",
      "metadata": {
        "colab": {
          "base_uri": "https://localhost:8080/"
        },
        "id": "3tumwgS9BlGw",
        "outputId": "2a6e5907-acb2-4775-ecd2-1d7575e9fdf1"
      },
      "source": [
        "Y\n"
      ],
      "execution_count": 49,
      "outputs": [
        {
          "output_type": "execute_result",
          "data": {
            "text/plain": [
              "array([3, 2, 2, ..., 3, 4, 3])"
            ]
          },
          "metadata": {
            "tags": []
          },
          "execution_count": 49
        }
      ]
    },
    {
      "cell_type": "markdown",
      "metadata": {
        "id": "2PGe7Ow4B_wV"
      },
      "source": [
        "Para visualizar as classes de textos"
      ]
    },
    {
      "cell_type": "code",
      "metadata": {
        "colab": {
          "base_uri": "https://localhost:8080/"
        },
        "id": "ih6_xh9tBmEm",
        "outputId": "bb2439b9-5887-4301-b4c2-1e94da5cfdf8"
      },
      "source": [
        "le.classes_\n"
      ],
      "execution_count": 50,
      "outputs": [
        {
          "output_type": "execute_result",
          "data": {
            "text/plain": [
              "array(['carros', 'economia', 'educacao', 'esporte', 'musica', 'politica'],\n",
              "      dtype=object)"
            ]
          },
          "metadata": {
            "tags": []
          },
          "execution_count": 50
        }
      ]
    },
    {
      "cell_type": "markdown",
      "metadata": {
        "id": "e9iNHa3GC98Y"
      },
      "source": [
        "Dividir os dados em treino e teste, parâmetro test_size."
      ]
    },
    {
      "cell_type": "code",
      "metadata": {
        "id": "kKjIREcSB-gb"
      },
      "source": [
        "X_train, X_test, Y_train, Y_test = train_test_split(train_df['post'], Y, test_size=0.2, random_state=5)"
      ],
      "execution_count": 51,
      "outputs": []
    },
    {
      "cell_type": "markdown",
      "metadata": {
        "id": "KMC69xfmDoJ3"
      },
      "source": [
        "Definir pipeline, obter uma lista onde cada valor e cada item da lista é um tupla, na primeira uma extração de features e na segunda o classificador.\n",
        "\n",
        "**Nota:** Uma feature nesse caso é uma palavra com TD-IDF"
      ]
    },
    {
      "cell_type": "code",
      "metadata": {
        "id": "fsGipZyWC87u"
      },
      "source": [
        "pipeline = Pipeline([\n",
        "                     ('vectorizer', TfidfVectorizer()),\n",
        "                     ('clf', LinearSVC())\n",
        "                     ])"
      ],
      "execution_count": 52,
      "outputs": []
    },
    {
      "cell_type": "markdown",
      "metadata": {
        "id": "d8Zzph9UEYGp"
      },
      "source": [
        "Para visualizar as classes que o pipeline está executando na sequência."
      ]
    },
    {
      "cell_type": "code",
      "metadata": {
        "colab": {
          "base_uri": "https://localhost:8080/"
        },
        "id": "Vutj9Br9DjPq",
        "outputId": "837d0fb1-b13d-464b-a39e-8fa3cc4b8410"
      },
      "source": [
        "pipeline.steps\n"
      ],
      "execution_count": 53,
      "outputs": [
        {
          "output_type": "execute_result",
          "data": {
            "text/plain": [
              "[('vectorizer',\n",
              "  TfidfVectorizer(analyzer='word', binary=False, decode_error='strict',\n",
              "                  dtype=<class 'numpy.float64'>, encoding='utf-8',\n",
              "                  input='content', lowercase=True, max_df=1.0, max_features=None,\n",
              "                  min_df=1, ngram_range=(1, 1), norm='l2', preprocessor=None,\n",
              "                  smooth_idf=True, stop_words=None, strip_accents=None,\n",
              "                  sublinear_tf=False, token_pattern='(?u)\\\\b\\\\w\\\\w+\\\\b',\n",
              "                  tokenizer=None, use_idf=True, vocabulary=None)),\n",
              " ('clf', LinearSVC(C=1.0, class_weight=None, dual=True, fit_intercept=True,\n",
              "            intercept_scaling=1, loss='squared_hinge', max_iter=1000,\n",
              "            multi_class='ovr', penalty='l2', random_state=None, tol=0.0001,\n",
              "            verbose=0))]"
            ]
          },
          "metadata": {
            "tags": []
          },
          "execution_count": 53
        }
      ]
    },
    {
      "cell_type": "markdown",
      "metadata": {
        "id": "urbtW5UJEyCe"
      },
      "source": [
        "Fazer o treino do classificador SVM"
      ]
    },
    {
      "cell_type": "code",
      "metadata": {
        "colab": {
          "base_uri": "https://localhost:8080/"
        },
        "id": "5phjeqhJEV-P",
        "outputId": "5613a068-29da-4d03-dda4-515c4e69817d"
      },
      "source": [
        "pipeline.fit(X_train, Y_train)"
      ],
      "execution_count": 54,
      "outputs": [
        {
          "output_type": "execute_result",
          "data": {
            "text/plain": [
              "Pipeline(memory=None,\n",
              "         steps=[('vectorizer',\n",
              "                 TfidfVectorizer(analyzer='word', binary=False,\n",
              "                                 decode_error='strict',\n",
              "                                 dtype=<class 'numpy.float64'>,\n",
              "                                 encoding='utf-8', input='content',\n",
              "                                 lowercase=True, max_df=1.0, max_features=None,\n",
              "                                 min_df=1, ngram_range=(1, 1), norm='l2',\n",
              "                                 preprocessor=None, smooth_idf=True,\n",
              "                                 stop_words=None, strip_accents=None,\n",
              "                                 sublinear_tf=False,\n",
              "                                 token_pattern='(?u)\\\\b\\\\w\\\\w+\\\\b',\n",
              "                                 tokenizer=None, use_idf=True,\n",
              "                                 vocabulary=None)),\n",
              "                ('clf',\n",
              "                 LinearSVC(C=1.0, class_weight=None, dual=True,\n",
              "                           fit_intercept=True, intercept_scaling=1,\n",
              "                           loss='squared_hinge', max_iter=1000,\n",
              "                           multi_class='ovr', penalty='l2', random_state=None,\n",
              "                           tol=0.0001, verbose=0))],\n",
              "         verbose=False)"
            ]
          },
          "metadata": {
            "tags": []
          },
          "execution_count": 54
        }
      ]
    },
    {
      "cell_type": "markdown",
      "metadata": {
        "id": "k10nv5H5GiZ4"
      },
      "source": [
        "**Avaliar o modelo com dados inéditos**\n",
        "\n",
        "Nessa caso os dados que ele nunca viu são os dados para teste, por isso é separado dados de treino e dados de teste, para avaliar a capacidade do algoritmo classificar corretamente em dados novos.\n",
        "\n",
        "**Nota:** A predição deve ser nos dados para teste.\n",
        "\n",
        "Para saber se os dados que o algoritmo previu estão corretos é necessário medir a precisão/accurancy dos rótulos(classificações) previstos com os rotulos verdadeiros.\n",
        "\n",
        "**pred** são os rótulos previstos\n",
        "\n",
        "**Y_teste** são os rótulos verdadeiros\n"
      ]
    },
    {
      "cell_type": "code",
      "metadata": {
        "id": "ySFWkCOWEtcz"
      },
      "source": [
        "pred = pipeline.predict(X_test)\n"
      ],
      "execution_count": 55,
      "outputs": []
    },
    {
      "cell_type": "code",
      "metadata": {
        "colab": {
          "base_uri": "https://localhost:8080/"
        },
        "id": "svHm_GvSFH3f",
        "outputId": "54add6b9-b659-4ce8-ab0d-e712a1d476ef"
      },
      "source": [
        "pred"
      ],
      "execution_count": 56,
      "outputs": [
        {
          "output_type": "execute_result",
          "data": {
            "text/plain": [
              "array([2, 2, 1, ..., 5, 1, 5])"
            ]
          },
          "metadata": {
            "tags": []
          },
          "execution_count": 56
        }
      ]
    },
    {
      "cell_type": "code",
      "metadata": {
        "colab": {
          "base_uri": "https://localhost:8080/"
        },
        "id": "ajYeYYNrFJTb",
        "outputId": "c738a99e-1990-4a22-cb94-c968394fedae"
      },
      "source": [
        "Y_test\n"
      ],
      "execution_count": 57,
      "outputs": [
        {
          "output_type": "execute_result",
          "data": {
            "text/plain": [
              "array([2, 2, 1, ..., 5, 1, 5])"
            ]
          },
          "metadata": {
            "tags": []
          },
          "execution_count": 57
        }
      ]
    },
    {
      "cell_type": "markdown",
      "metadata": {
        "id": "BLt9ChZXIkYC"
      },
      "source": [
        "Obteve uma precisão de 91%"
      ]
    },
    {
      "cell_type": "code",
      "metadata": {
        "colab": {
          "base_uri": "https://localhost:8080/"
        },
        "id": "vjCTqLI3FVrC",
        "outputId": "16f0f118-bec6-4508-8fee-bf5ed20e2a0c"
      },
      "source": [
        "accuracy_score(Y_test, pred)"
      ],
      "execution_count": 58,
      "outputs": [
        {
          "output_type": "execute_result",
          "data": {
            "text/plain": [
              "0.9103653355989805"
            ]
          },
          "metadata": {
            "tags": []
          },
          "execution_count": 58
        }
      ]
    },
    {
      "cell_type": "markdown",
      "metadata": {
        "id": "xfiEHyaVJgxK"
      },
      "source": [
        "Com o cassification_report é possível visualizar a precisão para cada rótulo.\n",
        "\n",
        "Para visualizar as classes le.classes_"
      ]
    },
    {
      "cell_type": "code",
      "metadata": {
        "colab": {
          "base_uri": "https://localhost:8080/"
        },
        "id": "6t2AIRKDFdoZ",
        "outputId": "175779d8-012d-431d-b278-c90fc949b4fd"
      },
      "source": [
        "print(classification_report(Y_test, pred))\n"
      ],
      "execution_count": 63,
      "outputs": [
        {
          "output_type": "stream",
          "text": [
            "              precision    recall  f1-score   support\n",
            "\n",
            "           0       0.93      0.96      0.94       389\n",
            "           1       0.81      0.80      0.80       396\n",
            "           2       0.95      0.93      0.94       403\n",
            "           3       0.94      0.94      0.94       393\n",
            "           4       0.95      0.96      0.95       413\n",
            "           5       0.87      0.88      0.87       360\n",
            "\n",
            "    accuracy                           0.91      2354\n",
            "   macro avg       0.91      0.91      0.91      2354\n",
            "weighted avg       0.91      0.91      0.91      2354\n",
            "\n"
          ],
          "name": "stdout"
        }
      ]
    },
    {
      "cell_type": "code",
      "metadata": {
        "colab": {
          "base_uri": "https://localhost:8080/"
        },
        "id": "7CaoHx7mJDcX",
        "outputId": "6b778b23-ce25-40e5-d533-0b5915030fb3"
      },
      "source": [
        "le.classes_\n"
      ],
      "execution_count": 64,
      "outputs": [
        {
          "output_type": "execute_result",
          "data": {
            "text/plain": [
              "array(['carros', 'economia', 'educacao', 'esporte', 'musica', 'politica'],\n",
              "      dtype=object)"
            ]
          },
          "metadata": {
            "tags": []
          },
          "execution_count": 64
        }
      ]
    },
    {
      "cell_type": "markdown",
      "metadata": {
        "id": "yQj_fNcFKhrl"
      },
      "source": [
        "Teste para verificar se classifica um classe corretamente.\n",
        "\n",
        "Para fazer o print do nome da classe use\n",
        "\n",
        "le.inverse_transform(prediction)"
      ]
    },
    {
      "cell_type": "code",
      "metadata": {
        "colab": {
          "base_uri": "https://localhost:8080/"
        },
        "id": "UHMVqO5rJ0Ih",
        "outputId": "d37fd02c-95b6-4977-a55d-16f38508e8f6"
      },
      "source": [
        "text = \"Corinthias marca um gol no final da partida contra o Palmeiras\"\n",
        "prediction = pipeline.predict([text])\n",
        "prediction\n"
      ],
      "execution_count": 69,
      "outputs": [
        {
          "output_type": "execute_result",
          "data": {
            "text/plain": [
              "array([3])"
            ]
          },
          "metadata": {
            "tags": []
          },
          "execution_count": 69
        }
      ]
    },
    {
      "cell_type": "code",
      "metadata": {
        "colab": {
          "base_uri": "https://localhost:8080/"
        },
        "id": "HfpNntJRKdrC",
        "outputId": "cf63b749-8367-4a38-c654-d8ab6f151142"
      },
      "source": [
        "le.inverse_transform(prediction)\n"
      ],
      "execution_count": 70,
      "outputs": [
        {
          "output_type": "execute_result",
          "data": {
            "text/plain": [
              "array(['esporte'], dtype=object)"
            ]
          },
          "metadata": {
            "tags": []
          },
          "execution_count": 70
        }
      ]
    },
    {
      "cell_type": "code",
      "metadata": {
        "colab": {
          "base_uri": "https://localhost:8080/"
        },
        "id": "A_w_wF0bK2c9",
        "outputId": "73e7bd38-3d1a-47f1-ec42-bf76dfd5eb44"
      },
      "source": [
        "text = \"Marrom 4 inicia sua turnê pelo mundo amanhã\"\n",
        "prediction = pipeline.predict([text])\n",
        "prediction\n",
        "\n"
      ],
      "execution_count": 73,
      "outputs": [
        {
          "output_type": "execute_result",
          "data": {
            "text/plain": [
              "array(['musica'], dtype=object)"
            ]
          },
          "metadata": {
            "tags": []
          },
          "execution_count": 73
        }
      ]
    },
    {
      "cell_type": "code",
      "metadata": {
        "colab": {
          "base_uri": "https://localhost:8080/"
        },
        "id": "q6dSBnm7LPtn",
        "outputId": "6028980e-2cab-4d5f-d993-c4f525d05cb4"
      },
      "source": [
        "le.inverse_transform(prediction)"
      ],
      "execution_count": 74,
      "outputs": [
        {
          "output_type": "execute_result",
          "data": {
            "text/plain": [
              "array(['musica'], dtype=object)"
            ]
          },
          "metadata": {
            "tags": []
          },
          "execution_count": 74
        }
      ]
    },
    {
      "cell_type": "markdown",
      "metadata": {
        "id": "7c3o9oO0LsNS"
      },
      "source": [
        "Exportar o modelo para usar em produção."
      ]
    },
    {
      "cell_type": "code",
      "metadata": {
        "colab": {
          "base_uri": "https://localhost:8080/"
        },
        "id": "3Axdnj2QLXh8",
        "outputId": "51aa7ea6-62a7-42b1-9bfa-0d1562215364"
      },
      "source": [
        "joblib.dump(pipeline, \"model.joblib\")\n"
      ],
      "execution_count": 76,
      "outputs": [
        {
          "output_type": "execute_result",
          "data": {
            "text/plain": [
              "['model.joblib']"
            ]
          },
          "metadata": {
            "tags": []
          },
          "execution_count": 76
        }
      ]
    },
    {
      "cell_type": "code",
      "metadata": {
        "id": "AOeKheAqLk9W"
      },
      "source": [
        ""
      ],
      "execution_count": null,
      "outputs": []
    }
  ]
}